{
 "cells": [
  {
   "cell_type": "markdown",
   "metadata": {
    "deletable": true,
    "editable": true
   },
   "source": [
    "This kernel adopts the idea of [Eliot Barril](https://www.kaggle.com/eliotbarr/house-prices-advanced-regression-techniques/stacking-starter/code). To understand this Ensemble Model, please review this [article](http://mlwave.com/kaggle-ensembling-guide/)."
   ]
  },
  {
   "cell_type": "code",
   "execution_count": 1,
   "metadata": {
    "collapsed": false,
    "deletable": true,
    "editable": true
   },
   "outputs": [
    {
     "name": "stderr",
     "output_type": "stream",
     "text": [
      "/Users/hoangnguyen/miniconda3/envs/pydata/lib/python3.5/site-packages/sklearn/cross_validation.py:44: DeprecationWarning: This module was deprecated in version 0.18 in favor of the model_selection module into which all the refactored classes and functions are moved. Also note that the interface of the new CV iterators are different from that of this module. This module will be removed in 0.20.\n",
      "  \"This module will be removed in 0.20.\", DeprecationWarning)\n"
     ]
    }
   ],
   "source": [
    "import pandas as pd\n",
    "import numpy as np\n",
    "import pickle\n",
    "import os\n",
    "from math import sqrt\n",
    "\n",
    "from scipy.stats import skew\n",
    "import xgboost as xgb\n",
    "from sklearn.cross_validation import KFold\n",
    "\n",
    "from sklearn.linear_model import BayesianRidge, ElasticNet, HuberRegressor, Lasso, Ridge\n",
    "from sklearn import svm\n",
    "from sklearn.ensemble import RandomForestRegressor, AdaBoostRegressor, BaggingRegressor\n",
    "#from sklearn.ensemble import ExtraTreesRegressor, DecisionTreeRegressor\n",
    "from sklearn import svm\n",
    "from xgboost import XGBRegressor\n",
    "\n",
    "from sklearn.metrics import mean_squared_error\n",
    "\n",
    "%matplotlib inline\n",
    "import warnings\n",
    "warnings.filterwarnings('ignore')"
   ]
  },
  {
   "cell_type": "markdown",
   "metadata": {
    "deletable": true,
    "editable": true
   },
   "source": [
    "# Load data"
   ]
  },
  {
   "cell_type": "code",
   "execution_count": 2,
   "metadata": {
    "collapsed": false,
    "deletable": true,
    "editable": true
   },
   "outputs": [],
   "source": [
    "with open(\"input/preprocessed_data_5.pkl\", \"rb\") as f:\n",
    "    train_data = pickle.load(f)\n",
    "    test_data = pickle.load(f)\n",
    "    ids = pickle.load(f)\n",
    "    labels = pickle.load(f)"
   ]
  },
  {
   "cell_type": "code",
   "execution_count": 3,
   "metadata": {
    "collapsed": false,
    "deletable": true,
    "editable": true
   },
   "outputs": [
    {
     "data": {
      "text/plain": [
       "pandas.core.frame.DataFrame"
      ]
     },
     "execution_count": 3,
     "metadata": {},
     "output_type": "execute_result"
    }
   ],
   "source": [
    "type(train_data)"
   ]
  },
  {
   "cell_type": "code",
   "execution_count": 4,
   "metadata": {
    "collapsed": false,
    "deletable": true,
    "editable": true
   },
   "outputs": [
    {
     "data": {
      "text/plain": [
       "1420"
      ]
     },
     "execution_count": 4,
     "metadata": {},
     "output_type": "execute_result"
    }
   ],
   "source": [
    "len(labels)"
   ]
  },
  {
   "cell_type": "markdown",
   "metadata": {
    "deletable": true,
    "editable": true
   },
   "source": [
    "# Build model"
   ]
  },
  {
   "cell_type": "code",
   "execution_count": 5,
   "metadata": {
    "collapsed": false,
    "deletable": true,
    "editable": true
   },
   "outputs": [],
   "source": [
    "TARGET = 'SalePrice'\n",
    "NFOLDS = 5\n",
    "SEED = 3\n",
    "NROWS = None\n",
    "SUBMISSION_FILE = 'output/xgstacker_try.csv'\n",
    "\n",
    "ntrain = train_data.shape[0]\n",
    "ntest = test_data.shape[0]"
   ]
  },
  {
   "cell_type": "code",
   "execution_count": 6,
   "metadata": {
    "collapsed": false,
    "deletable": true,
    "editable": true
   },
   "outputs": [],
   "source": [
    "x_train = np.array(train_data)\n",
    "x_test = np.array(test_data)\n",
    "y_train = labels"
   ]
  },
  {
   "cell_type": "code",
   "execution_count": 7,
   "metadata": {
    "collapsed": false,
    "deletable": true,
    "editable": true
   },
   "outputs": [],
   "source": [
    "y_train = y_train.reset_index()\n",
    "del y_train['index']\n",
    "y_train = y_train['SalePrice']"
   ]
  },
  {
   "cell_type": "code",
   "execution_count": 8,
   "metadata": {
    "collapsed": false,
    "deletable": true,
    "editable": true
   },
   "outputs": [],
   "source": [
    "kf = KFold(ntrain, n_folds=NFOLDS, shuffle=True, random_state=SEED)"
   ]
  },
  {
   "cell_type": "code",
   "execution_count": 9,
   "metadata": {
    "collapsed": true,
    "deletable": true,
    "editable": true
   },
   "outputs": [],
   "source": [
    "class SklearnWrapper(object):\n",
    "    def __init__(self, clf, params=None):\n",
    "        #params['random_state'] = seed\n",
    "        self.clf = clf(**params)\n",
    "\n",
    "    def train(self, x_train, y_train):\n",
    "        self.clf.fit(x_train, y_train)\n",
    "\n",
    "    def predict(self, x):\n",
    "        return self.clf.predict(x)"
   ]
  },
  {
   "cell_type": "code",
   "execution_count": 10,
   "metadata": {
    "collapsed": true,
    "deletable": true,
    "editable": true
   },
   "outputs": [],
   "source": [
    "class XgbWrapper(object):\n",
    "    def __init__(self, seed=0, params=None):\n",
    "        self.param = params\n",
    "        self.param['seed'] = seed\n",
    "        self.nrounds = params.pop('nrounds', 250)\n",
    "\n",
    "    def train(self, x_train, y_train):\n",
    "        dtrain = xgb.DMatrix(x_train, label=y_train)\n",
    "        self.gbdt = xgb.train(self.param, dtrain, self.nrounds)\n",
    "\n",
    "    def predict(self, x):\n",
    "        return self.gbdt.predict(xgb.DMatrix(x))"
   ]
  },
  {
   "cell_type": "code",
   "execution_count": 11,
   "metadata": {
    "collapsed": true,
    "deletable": true,
    "editable": true
   },
   "outputs": [],
   "source": [
    "#out of folds\n",
    "def get_oof(clf):\n",
    "    oof_train = np.zeros((ntrain,))\n",
    "    oof_test = np.zeros((ntest,))\n",
    "    oof_test_skf = np.empty((NFOLDS, ntest))\n",
    "\n",
    "    for i, (train_index, test_index) in enumerate(kf):\n",
    "        x_tr = x_train[train_index]\n",
    "        y_tr = y_train[train_index]\n",
    "        x_te = x_train[test_index]\n",
    "\n",
    "        clf.train(x_tr, y_tr)\n",
    "\n",
    "        oof_train[test_index] = clf.predict(x_te)\n",
    "        oof_test_skf[i, :] = clf.predict(x_test)\n",
    "\n",
    "    oof_test[:] = oof_test_skf.mean(axis=0)\n",
    "    return oof_train.reshape(-1, 1), oof_test.reshape(-1, 1)"
   ]
  },
  {
   "cell_type": "code",
   "execution_count": 12,
   "metadata": {
    "collapsed": false,
    "deletable": true,
    "editable": true
   },
   "outputs": [],
   "source": [
    "#for i, (train_index, test_index) in enumerate(kf):\n",
    "    #print(i)\n",
    "    #print(train_index, test_index)"
   ]
  },
  {
   "cell_type": "code",
   "execution_count": 13,
   "metadata": {
    "collapsed": true,
    "deletable": true,
    "editable": true
   },
   "outputs": [],
   "source": [
    "#Bayesian Ridge\n",
    "br_params = {\n",
    "    'alpha_1' : 0.05, \n",
    "    'alpha_2' : 0.05\n",
    "}\n",
    "\n",
    "#Lasso\n",
    "ls_params = {\n",
    "    'alpha': 0.005\n",
    "}\n",
    "\n",
    "\n",
    "#Ridge\n",
    "rd_params = {\n",
    "    'alpha': 10\n",
    "}\n",
    "\n",
    "#HuberRegressor\n",
    "hr_params = {'alpha': 1, \n",
    "             'epsilon': 1.2\n",
    "    \n",
    "}\n",
    "\"\"\"\n",
    "#SVM RBF\n",
    "svr_params = {'C': 1.0, \n",
    "              'epsilon': 2, \n",
    "              'tol': 0.0001\n",
    "    \n",
    "}\n",
    "\"\"\"\n",
    "\n",
    "#RandomForestRegressor\n",
    "rf_params = {\n",
    "    'n_jobs': 16,\n",
    "    'n_estimators': 100,\n",
    "    'max_features': 0.2,\n",
    "    'max_depth': 12,\n",
    "    'min_samples_leaf': 2,\n",
    "}\n",
    "\n",
    "\n",
    "#XGBRegressor\n",
    "xgb_params = {\n",
    "    'seed': 0,\n",
    "    'colsample_bytree': 0.7,\n",
    "    'silent': 1,\n",
    "    'subsample': 0.7,\n",
    "    'learning_rate': 0.075,\n",
    "    'objective': 'reg:linear',\n",
    "    'max_depth': 4,\n",
    "    'num_parallel_tree': 1,\n",
    "    'min_child_weight': 1,\n",
    "    'eval_metric': 'rmse',\n",
    "    'nrounds': 500\n",
    "}\n",
    "#AdaBoostRegressor\n",
    "ab_params = {'learning_rate': 0.001,\n",
    "            'n_estimators': 50\n",
    "    \n",
    "}"
   ]
  },
  {
   "cell_type": "code",
   "execution_count": 14,
   "metadata": {
    "collapsed": false,
    "deletable": true,
    "editable": true
   },
   "outputs": [],
   "source": [
    "br = SklearnWrapper(clf=BayesianRidge, params=br_params)\n",
    "ls = SklearnWrapper(clf=Lasso, params=ls_params)\n",
    "rd = SklearnWrapper(clf=Ridge, params=rd_params)\n",
    "rf = SklearnWrapper(clf=RandomForestRegressor, params=rf_params)\n",
    "ab = SklearnWrapper(clf=AdaBoostRegressor, params=ab_params)\n",
    "xg = XgbWrapper(seed=SEED, params=xgb_params)\n",
    "\n",
    "\n",
    "#et = SklearnWrapper(clf=ExtraTreesRegressor, seed=SEED, params=et_params)\n",
    "#rf = SklearnWrapper(clf=RandomForestRegressor, seed=SEED, params=rf_params)"
   ]
  },
  {
   "cell_type": "code",
   "execution_count": 15,
   "metadata": {
    "collapsed": false,
    "deletable": true,
    "editable": true
   },
   "outputs": [],
   "source": [
    "xg_oof_train, xg_oof_test = get_oof(xg)\n",
    "br_oof_train, br_oof_test = get_oof(br)\n",
    "ls_oof_train, ls_oof_test = get_oof(ls)\n",
    "rd_oof_train, rd_oof_test = get_oof(rd)\n",
    "rf_oof_train, rf_oof_test = get_oof(rf)\n",
    "ab_oof_train, ab_oof_test = get_oof(ab)"
   ]
  },
  {
   "cell_type": "code",
   "execution_count": 16,
   "metadata": {
    "collapsed": false,
    "deletable": true,
    "editable": true
   },
   "outputs": [
    {
     "name": "stdout",
     "output_type": "stream",
     "text": [
      "XG-CV: 0.117698934661447\n",
      "BR-CV: 0.11169755822112706\n",
      "LS-CV: 0.12520341935253773\n",
      "RD-CV: 0.11160359084744062\n",
      "RF-CV: 0.13453672277723452\n",
      "AB-CV: 0.1986166247675586\n"
     ]
    }
   ],
   "source": [
    "print(\"XG-CV: {}\".format(sqrt(mean_squared_error(y_train, xg_oof_train))))\n",
    "print(\"BR-CV: {}\".format(sqrt(mean_squared_error(y_train, br_oof_train))))\n",
    "print(\"LS-CV: {}\".format(sqrt(mean_squared_error(y_train, ls_oof_train))))\n",
    "print(\"RD-CV: {}\".format(sqrt(mean_squared_error(y_train, rd_oof_train))))\n",
    "print(\"RF-CV: {}\".format(sqrt(mean_squared_error(y_train, rf_oof_train))))\n",
    "print(\"AB-CV: {}\".format(sqrt(mean_squared_error(y_train, ab_oof_train))))"
   ]
  },
  {
   "cell_type": "code",
   "execution_count": 17,
   "metadata": {
    "collapsed": false,
    "deletable": true,
    "editable": true
   },
   "outputs": [],
   "source": [
    "x_train = np.concatenate((xg_oof_train, br_oof_train, ls_oof_train, rd_oof_train, rf_oof_train, ab_oof_train), axis=1)\n",
    "x_test = np.concatenate((xg_oof_test, br_oof_test, ls_oof_test, rd_oof_test, rf_oof_test, ab_oof_test), axis=1)"
   ]
  },
  {
   "cell_type": "code",
   "execution_count": 18,
   "metadata": {
    "collapsed": false,
    "deletable": true,
    "editable": true
   },
   "outputs": [
    {
     "name": "stdout",
     "output_type": "stream",
     "text": [
      "(1420, 6),(1459, 6)\n"
     ]
    }
   ],
   "source": [
    "print(\"{},{}\".format(x_train.shape, x_test.shape))"
   ]
  },
  {
   "cell_type": "code",
   "execution_count": 19,
   "metadata": {
    "collapsed": true,
    "deletable": true,
    "editable": true
   },
   "outputs": [],
   "source": [
    "dtrain = xgb.DMatrix(x_train, label=y_train)\n",
    "dtest = xgb.DMatrix(x_test)"
   ]
  },
  {
   "cell_type": "code",
   "execution_count": 20,
   "metadata": {
    "collapsed": true,
    "deletable": true,
    "editable": true
   },
   "outputs": [],
   "source": [
    "xgb_params = {\n",
    "    'seed': 0,\n",
    "    'colsample_bytree': 0.8,\n",
    "    'silent': 1,\n",
    "    'subsample': 0.6,\n",
    "    'learning_rate': 0.01,\n",
    "    'objective': 'reg:linear',\n",
    "    'max_depth': 3,\n",
    "    'num_parallel_tree': 1,\n",
    "    'min_child_weight': 5,\n",
    "    'eval_metric': 'rmse',\n",
    "}"
   ]
  },
  {
   "cell_type": "code",
   "execution_count": 21,
   "metadata": {
    "collapsed": false,
    "deletable": true,
    "editable": true
   },
   "outputs": [
    {
     "name": "stdout",
     "output_type": "stream",
     "text": [
      "[0]\ttrain-rmse:11.4031+0.00473003\ttest-rmse:11.4031+0.0142113\n",
      "[10]\ttrain-rmse:10.3157+0.00445397\ttest-rmse:10.3157+0.0144785\n",
      "[20]\ttrain-rmse:9.3323+0.00387658\ttest-rmse:9.33229+0.0150352\n",
      "[30]\ttrain-rmse:8.44287+0.00360863\ttest-rmse:8.44286+0.0152838\n",
      "[40]\ttrain-rmse:7.63841+0.00324941\ttest-rmse:7.6384+0.0156389\n",
      "[50]\ttrain-rmse:6.91108+0.0030138\ttest-rmse:6.91107+0.0156107\n",
      "[60]\ttrain-rmse:6.25293+0.00276954\ttest-rmse:6.25296+0.0153456\n",
      "[70]\ttrain-rmse:5.6577+0.00259847\ttest-rmse:5.6577+0.0147551\n",
      "[80]\ttrain-rmse:5.11911+0.00236158\ttest-rmse:5.11923+0.0139281\n",
      "[90]\ttrain-rmse:4.63217+0.00203154\ttest-rmse:4.63232+0.0132733\n",
      "[100]\ttrain-rmse:4.19166+0.00179689\ttest-rmse:4.19173+0.012631\n",
      "[110]\ttrain-rmse:3.79319+0.00172125\ttest-rmse:3.79329+0.0117889\n",
      "[120]\ttrain-rmse:3.4326+0.00152884\ttest-rmse:3.43271+0.0110269\n",
      "[130]\ttrain-rmse:3.10652+0.00125546\ttest-rmse:3.10687+0.0103919\n",
      "[140]\ttrain-rmse:2.81152+0.00116311\ttest-rmse:2.81179+0.00954027\n",
      "[150]\ttrain-rmse:2.5445+0.0010476\ttest-rmse:2.54488+0.00877422\n",
      "[160]\ttrain-rmse:2.30306+0.000945804\ttest-rmse:2.30346+0.00802242\n",
      "[170]\ttrain-rmse:2.0846+0.000791747\ttest-rmse:2.08501+0.00739073\n",
      "[180]\ttrain-rmse:1.88708+0.000733613\ttest-rmse:1.88771+0.00663511\n",
      "[190]\ttrain-rmse:1.70844+0.000745876\ttest-rmse:1.70905+0.00598869\n",
      "[200]\ttrain-rmse:1.54675+0.000663045\ttest-rmse:1.5475+0.00569242\n",
      "[210]\ttrain-rmse:1.40055+0.000643988\ttest-rmse:1.40134+0.00528422\n",
      "[220]\ttrain-rmse:1.26833+0.000572072\ttest-rmse:1.26926+0.00488002\n",
      "[230]\ttrain-rmse:1.14878+0.000542144\ttest-rmse:1.14988+0.00455836\n",
      "[240]\ttrain-rmse:1.04067+0.000546129\ttest-rmse:1.04195+0.00429433\n",
      "[250]\ttrain-rmse:0.942875+0.000566883\ttest-rmse:0.944286+0.00388673\n",
      "[260]\ttrain-rmse:0.854385+0.000588391\ttest-rmse:0.855972+0.00351321\n",
      "[270]\ttrain-rmse:0.774505+0.00050779\ttest-rmse:0.776285+0.00322444\n",
      "[280]\ttrain-rmse:0.702367+0.000499045\ttest-rmse:0.704349+0.00294807\n",
      "[290]\ttrain-rmse:0.637251+0.000576617\ttest-rmse:0.639379+0.00271118\n",
      "[300]\ttrain-rmse:0.578464+0.000561104\ttest-rmse:0.580872+0.00239429\n",
      "[310]\ttrain-rmse:0.525383+0.000579032\ttest-rmse:0.528033+0.00215151\n",
      "[320]\ttrain-rmse:0.477521+0.000611388\ttest-rmse:0.480442+0.00186169\n",
      "[330]\ttrain-rmse:0.434337+0.00062967\ttest-rmse:0.437571+0.00166857\n",
      "[340]\ttrain-rmse:0.395509+0.000664057\ttest-rmse:0.399088+0.00138618\n",
      "[350]\ttrain-rmse:0.360585+0.000723711\ttest-rmse:0.364531+0.00128768\n",
      "[360]\ttrain-rmse:0.329177+0.000844121\ttest-rmse:0.333556+0.00110461\n",
      "[370]\ttrain-rmse:0.300949+0.000894655\ttest-rmse:0.305844+0.000926495\n",
      "[380]\ttrain-rmse:0.275727+0.00101457\ttest-rmse:0.281073+0.000890066\n",
      "[390]\ttrain-rmse:0.253173+0.00107546\ttest-rmse:0.259062+0.000889339\n",
      "[400]\ttrain-rmse:0.233019+0.00114879\ttest-rmse:0.239446+0.00104901\n",
      "[410]\ttrain-rmse:0.215105+0.00123976\ttest-rmse:0.222095+0.0012557\n",
      "[420]\ttrain-rmse:0.199236+0.00133822\ttest-rmse:0.20684+0.00154132\n",
      "[430]\ttrain-rmse:0.185186+0.00144276\ttest-rmse:0.193416+0.00187837\n",
      "[440]\ttrain-rmse:0.172857+0.001509\ttest-rmse:0.181729+0.00226486\n",
      "[450]\ttrain-rmse:0.16204+0.00161411\ttest-rmse:0.171561+0.00264797\n",
      "[460]\ttrain-rmse:0.152537+0.00170158\ttest-rmse:0.162718+0.00301906\n",
      "[470]\ttrain-rmse:0.144194+0.00181327\ttest-rmse:0.15503+0.00344681\n",
      "[480]\ttrain-rmse:0.136984+0.00189161\ttest-rmse:0.148487+0.00376806\n",
      "[490]\ttrain-rmse:0.130728+0.00202692\ttest-rmse:0.142869+0.00409697\n",
      "[500]\ttrain-rmse:0.125362+0.00208246\ttest-rmse:0.138095+0.00443738\n",
      "[510]\ttrain-rmse:0.120826+0.00217406\ttest-rmse:0.134124+0.00472345\n",
      "[520]\ttrain-rmse:0.116943+0.00223083\ttest-rmse:0.130728+0.0049636\n",
      "[530]\ttrain-rmse:0.113581+0.0023325\ttest-rmse:0.12787+0.00521303\n",
      "[540]\ttrain-rmse:0.110775+0.00238055\ttest-rmse:0.125578+0.00544212\n",
      "[550]\ttrain-rmse:0.108373+0.00245195\ttest-rmse:0.12357+0.00565468\n",
      "[560]\ttrain-rmse:0.106316+0.00248167\ttest-rmse:0.121866+0.00581655\n",
      "[570]\ttrain-rmse:0.104583+0.00248898\ttest-rmse:0.120516+0.00602745\n",
      "[580]\ttrain-rmse:0.103089+0.0025331\ttest-rmse:0.119372+0.00623509\n",
      "[590]\ttrain-rmse:0.101824+0.00257457\ttest-rmse:0.118438+0.00645\n",
      "[600]\ttrain-rmse:0.100753+0.00258766\ttest-rmse:0.117621+0.00656532\n",
      "[610]\ttrain-rmse:0.0998413+0.00259714\ttest-rmse:0.116994+0.0066662\n",
      "[620]\ttrain-rmse:0.0990665+0.00260632\ttest-rmse:0.116486+0.00677722\n",
      "[630]\ttrain-rmse:0.0983885+0.00260027\ttest-rmse:0.11606+0.00690947\n",
      "[640]\ttrain-rmse:0.0978275+0.00257938\ttest-rmse:0.115778+0.00698176\n",
      "[650]\ttrain-rmse:0.0973308+0.00257252\ttest-rmse:0.115535+0.00711672\n",
      "[660]\ttrain-rmse:0.0968958+0.00258152\ttest-rmse:0.115318+0.00719233\n",
      "[670]\ttrain-rmse:0.0965132+0.00257751\ttest-rmse:0.115169+0.0072803\n",
      "[680]\ttrain-rmse:0.096184+0.00256941\ttest-rmse:0.115111+0.00736755\n",
      "[690]\ttrain-rmse:0.095877+0.00258005\ttest-rmse:0.115039+0.00741444\n",
      "[700]\ttrain-rmse:0.0956022+0.00257487\ttest-rmse:0.115001+0.00744746\n",
      "[710]\ttrain-rmse:0.095362+0.00257225\ttest-rmse:0.114928+0.0074935\n",
      "[720]\ttrain-rmse:0.095126+0.00255655\ttest-rmse:0.114881+0.00752948\n",
      "[730]\ttrain-rmse:0.0949077+0.00254955\ttest-rmse:0.114897+0.00759592\n",
      "[740]\ttrain-rmse:0.0946793+0.00252587\ttest-rmse:0.11486+0.00758582\n",
      "[750]\ttrain-rmse:0.094502+0.00251862\ttest-rmse:0.114856+0.00762542\n",
      "[760]\ttrain-rmse:0.0942912+0.00251263\ttest-rmse:0.114876+0.00772591\n"
     ]
    }
   ],
   "source": [
    "res = xgb.cv(xgb_params, dtrain, num_boost_round=1000, nfold=4, seed=SEED, stratified=False,\n",
    "             early_stopping_rounds=25, verbose_eval=10, show_stdv=True)"
   ]
  },
  {
   "cell_type": "code",
   "execution_count": 22,
   "metadata": {
    "collapsed": true,
    "deletable": true,
    "editable": true
   },
   "outputs": [],
   "source": [
    "best_nrounds = res.shape[0] - 1\n",
    "cv_mean = res.iloc[-1, 0]\n",
    "cv_std = res.iloc[-1, 1]"
   ]
  },
  {
   "cell_type": "code",
   "execution_count": 23,
   "metadata": {
    "collapsed": false,
    "deletable": true,
    "editable": true
   },
   "outputs": [
    {
     "name": "stdout",
     "output_type": "stream",
     "text": [
      "Ensemble-CV: 0.11483025000000001 (+/- 0.00760544030201408)\n"
     ]
    }
   ],
   "source": [
    "print('Ensemble-CV: {0} (+/- {1})'.format(cv_mean, cv_std))"
   ]
  },
  {
   "cell_type": "code",
   "execution_count": 24,
   "metadata": {
    "collapsed": true,
    "deletable": true,
    "editable": true
   },
   "outputs": [],
   "source": [
    "gbdt = xgb.train(xgb_params, dtrain, best_nrounds)"
   ]
  },
  {
   "cell_type": "code",
   "execution_count": 25,
   "metadata": {
    "collapsed": false,
    "deletable": true,
    "editable": true
   },
   "outputs": [
    {
     "data": {
      "text/plain": [
       "\"\\nsubmission = pd.read_csv(SUBMISSION_FILE)\\nsubmission.iloc[:, 1] = gbdt.predict(dtest)\\nsaleprice = np.exp(submission['SalePrice'])-1\\nsubmission['SalePrice'] = saleprice\\nsubmission.to_csv('output/xgstacker_try.csv', index=None)\\n\""
      ]
     },
     "execution_count": 25,
     "metadata": {},
     "output_type": "execute_result"
    }
   ],
   "source": [
    "\"\"\"\n",
    "submission = pd.read_csv(SUBMISSION_FILE)\n",
    "submission.iloc[:, 1] = gbdt.predict(dtest)\n",
    "saleprice = np.exp(submission['SalePrice'])-1\n",
    "submission['SalePrice'] = saleprice\n",
    "submission.to_csv('output/xgstacker_try.csv', index=None)\n",
    "\"\"\""
   ]
  },
  {
   "cell_type": "code",
   "execution_count": 26,
   "metadata": {
    "collapsed": true,
    "deletable": true,
    "editable": true
   },
   "outputs": [],
   "source": [
    "def modelSubmit(model, dtest, name):\n",
    "    ln_pred = model.predict(dtest)\n",
    "    pred = np.expm1(ln_pred)\n",
    "    submission = pd.DataFrame({\"Id\": ids, \"SalePrice\": pred})\n",
    "    filename = os.path.join(name + \".csv\")\n",
    "    submission.to_csv('output/' + filename, index=False)"
   ]
  },
  {
   "cell_type": "code",
   "execution_count": 27,
   "metadata": {
    "collapsed": false,
    "deletable": true,
    "editable": true
   },
   "outputs": [],
   "source": [
    "modelSubmit(gbdt, dtest, 'xgstacker_5_2')"
   ]
  },
  {
   "cell_type": "code",
   "execution_count": null,
   "metadata": {
    "collapsed": true,
    "deletable": true,
    "editable": true
   },
   "outputs": [],
   "source": []
  }
 ],
 "metadata": {
  "kernelspec": {
   "display_name": "Python 3",
   "language": "python",
   "name": "python3"
  },
  "language_info": {
   "codemirror_mode": {
    "name": "ipython",
    "version": 3
   },
   "file_extension": ".py",
   "mimetype": "text/x-python",
   "name": "python",
   "nbconvert_exporter": "python",
   "pygments_lexer": "ipython3",
   "version": "3.5.2"
  },
  "toc": {
   "colors": {
    "hover_highlight": "#DAA520",
    "running_highlight": "#FF0000",
    "selected_highlight": "#FFD700"
   },
   "moveMenuLeft": true,
   "nav_menu": {
    "height": "48px",
    "width": "252px"
   },
   "navigate_menu": true,
   "number_sections": true,
   "sideBar": true,
   "threshold": 4,
   "toc_cell": false,
   "toc_section_display": "block",
   "toc_window_display": false
  }
 },
 "nbformat": 4,
 "nbformat_minor": 2
}
