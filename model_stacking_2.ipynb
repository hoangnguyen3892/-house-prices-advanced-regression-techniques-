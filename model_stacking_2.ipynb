{
 "cells": [
  {
   "cell_type": "markdown",
   "metadata": {
    "deletable": true,
    "editable": true
   },
   "source": [
    "This kernel adopts the idea of [Eliot Barril](https://www.kaggle.com/eliotbarr/house-prices-advanced-regression-techniques/stacking-starter/code). To understand this Ensemble Model, please review this [article](http://mlwave.com/kaggle-ensembling-guide/)."
   ]
  },
  {
   "cell_type": "code",
   "execution_count": 1,
   "metadata": {
    "collapsed": false,
    "deletable": true,
    "editable": true
   },
   "outputs": [
    {
     "name": "stderr",
     "output_type": "stream",
     "text": [
      "/Users/hoangnguyen/miniconda3/envs/pydata/lib/python3.5/site-packages/sklearn/cross_validation.py:44: DeprecationWarning: This module was deprecated in version 0.18 in favor of the model_selection module into which all the refactored classes and functions are moved. Also note that the interface of the new CV iterators are different from that of this module. This module will be removed in 0.20.\n",
      "  \"This module will be removed in 0.20.\", DeprecationWarning)\n"
     ]
    }
   ],
   "source": [
    "import pandas as pd\n",
    "import numpy as np\n",
    "import pickle\n",
    "import os\n",
    "\n",
    "from scipy.stats import skew\n",
    "import xgboost as xgb\n",
    "from sklearn.cross_validation import KFold\n",
    "from sklearn.ensemble import ExtraTreesRegressor\n",
    "from sklearn.ensemble import RandomForestRegressor\n",
    "from sklearn.ensemble import BaggingRegressor\n",
    "from sklearn.ensemble import RandomForestRegressor\n",
    "from sklearn import svm\n",
    "from sklearn.ensemble import AdaBoostRegressor\n",
    "from sklearn.tree import DecisionTreeRegressor\n",
    "from xgboost import XGBRegressor\n",
    "\n",
    "from sklearn.metrics import mean_squared_error\n",
    "from sklearn.linear_model import BayesianRidge, Ridge, RidgeCV, LinearRegression, ElasticNet, LassoCV, Lasso\n",
    "\n",
    "from math import sqrt\n",
    "\n",
    "%matplotlib inline\n",
    "import warnings\n",
    "warnings.filterwarnings('ignore')"
   ]
  },
  {
   "cell_type": "markdown",
   "metadata": {
    "deletable": true,
    "editable": true
   },
   "source": [
    "# Load data"
   ]
  },
  {
   "cell_type": "code",
   "execution_count": 2,
   "metadata": {
    "collapsed": false,
    "deletable": true,
    "editable": true
   },
   "outputs": [],
   "source": [
    "with open(\"input/preprocessed_data_2.pkl\", \"rb\") as f:\n",
    "    train_data = pickle.load(f)\n",
    "    test_data = pickle.load(f)\n",
    "    ids = pickle.load(f)\n",
    "    labels = pickle.load(f)"
   ]
  },
  {
   "cell_type": "code",
   "execution_count": 3,
   "metadata": {
    "collapsed": false,
    "deletable": true,
    "editable": true
   },
   "outputs": [
    {
     "data": {
      "text/plain": [
       "pandas.core.frame.DataFrame"
      ]
     },
     "execution_count": 3,
     "metadata": {},
     "output_type": "execute_result"
    }
   ],
   "source": [
    "type(train_data)"
   ]
  },
  {
   "cell_type": "code",
   "execution_count": 4,
   "metadata": {
    "collapsed": false,
    "deletable": true,
    "editable": true
   },
   "outputs": [
    {
     "data": {
      "text/plain": [
       "1458"
      ]
     },
     "execution_count": 4,
     "metadata": {},
     "output_type": "execute_result"
    }
   ],
   "source": [
    "len(labels)"
   ]
  },
  {
   "cell_type": "markdown",
   "metadata": {
    "deletable": true,
    "editable": true
   },
   "source": [
    "# Build model"
   ]
  },
  {
   "cell_type": "code",
   "execution_count": 5,
   "metadata": {
    "collapsed": false,
    "deletable": true,
    "editable": true
   },
   "outputs": [],
   "source": [
    "TARGET = 'SalePrice'\n",
    "NFOLDS = 5\n",
    "SEED = 3\n",
    "NROWS = None\n",
    "SUBMISSION_FILE = 'output/xgstacker_try.csv'\n",
    "\n",
    "ntrain = train_data.shape[0]\n",
    "ntest = test_data.shape[0]"
   ]
  },
  {
   "cell_type": "code",
   "execution_count": 6,
   "metadata": {
    "collapsed": true,
    "deletable": true,
    "editable": true
   },
   "outputs": [],
   "source": [
    "x_train = np.array(train_data)\n",
    "x_test = np.array(test_data)\n",
    "y_train = labels"
   ]
  },
  {
   "cell_type": "code",
   "execution_count": 7,
   "metadata": {
    "collapsed": false,
    "deletable": true,
    "editable": true
   },
   "outputs": [],
   "source": [
    "y_train = y_train.reset_index()\n",
    "del y_train['index']\n",
    "y_train = y_train['SalePrice']"
   ]
  },
  {
   "cell_type": "code",
   "execution_count": 8,
   "metadata": {
    "collapsed": false,
    "deletable": true,
    "editable": true
   },
   "outputs": [],
   "source": [
    "kf = KFold(ntrain, n_folds=NFOLDS, shuffle=True, random_state=SEED)"
   ]
  },
  {
   "cell_type": "code",
   "execution_count": 9,
   "metadata": {
    "collapsed": true,
    "deletable": true,
    "editable": true
   },
   "outputs": [],
   "source": [
    "class SklearnWrapper(object):\n",
    "    def __init__(self, clf, params=None):\n",
    "        #params['random_state'] = seed\n",
    "        self.clf = clf(**params)\n",
    "\n",
    "    def train(self, x_train, y_train):\n",
    "        self.clf.fit(x_train, y_train)\n",
    "\n",
    "    def predict(self, x):\n",
    "        return self.clf.predict(x)"
   ]
  },
  {
   "cell_type": "code",
   "execution_count": 10,
   "metadata": {
    "collapsed": true,
    "deletable": true,
    "editable": true
   },
   "outputs": [],
   "source": [
    "class XgbWrapper(object):\n",
    "    def __init__(self, seed=0, params=None):\n",
    "        self.param = params\n",
    "        self.param['seed'] = seed\n",
    "        self.nrounds = params.pop('nrounds', 250)\n",
    "\n",
    "    def train(self, x_train, y_train):\n",
    "        dtrain = xgb.DMatrix(x_train, label=y_train)\n",
    "        self.gbdt = xgb.train(self.param, dtrain, self.nrounds)\n",
    "\n",
    "    def predict(self, x):\n",
    "        return self.gbdt.predict(xgb.DMatrix(x))"
   ]
  },
  {
   "cell_type": "code",
   "execution_count": 11,
   "metadata": {
    "collapsed": true,
    "deletable": true,
    "editable": true
   },
   "outputs": [],
   "source": [
    "#out of folds\n",
    "def get_oof(clf):\n",
    "    oof_train = np.zeros((ntrain,))\n",
    "    oof_test = np.zeros((ntest,))\n",
    "    oof_test_skf = np.empty((NFOLDS, ntest))\n",
    "\n",
    "    for i, (train_index, test_index) in enumerate(kf):\n",
    "        x_tr = x_train[train_index]\n",
    "        y_tr = y_train[train_index]\n",
    "        x_te = x_train[test_index]\n",
    "\n",
    "        clf.train(x_tr, y_tr)\n",
    "\n",
    "        oof_train[test_index] = clf.predict(x_te)\n",
    "        oof_test_skf[i, :] = clf.predict(x_test)\n",
    "\n",
    "    oof_test[:] = oof_test_skf.mean(axis=0)\n",
    "    return oof_train.reshape(-1, 1), oof_test.reshape(-1, 1)"
   ]
  },
  {
   "cell_type": "code",
   "execution_count": 12,
   "metadata": {
    "collapsed": false,
    "deletable": true,
    "editable": true
   },
   "outputs": [],
   "source": [
    "#for i, (train_index, test_index) in enumerate(kf):\n",
    "    #print(i)\n",
    "    #print(train_index, test_index)"
   ]
  },
  {
   "cell_type": "code",
   "execution_count": 13,
   "metadata": {
    "collapsed": true,
    "deletable": true,
    "editable": true
   },
   "outputs": [],
   "source": [
    "#Bayesian Ridge\n",
    "br_params = {\n",
    "    'alpha_1' : 0.05, \n",
    "    'alpha_2' : 0.05\n",
    "}\n",
    "\n",
    "#Lasso\n",
    "ls_params = {\n",
    "    'alpha': 0.005\n",
    "}\n",
    "\n",
    "\n",
    "#Ridge\n",
    "rd_params = {\n",
    "    'alpha': 10\n",
    "}\n",
    "\n",
    "#Linear\n",
    "ln_params = {\n",
    "   'normalize': False \n",
    "}\n",
    "\n",
    "\"\"\"\n",
    "#RandomForestRegressor\n",
    "rf_params = {\n",
    "    'n_jobs': 16,\n",
    "    'n_estimators': 100,\n",
    "    'max_features': 0.2,\n",
    "    'max_depth': 12,\n",
    "    'min_samples_leaf': 2,\n",
    "}\n",
    "\"\"\"\n",
    "\n",
    "#XGBRegressor\n",
    "xgb_params = {\n",
    "    'seed': 0,\n",
    "    'colsample_bytree': 0.7,\n",
    "    'silent': 1,\n",
    "    'subsample': 0.7,\n",
    "    'learning_rate': 0.075,\n",
    "    'objective': 'reg:linear',\n",
    "    'max_depth': 4,\n",
    "    'num_parallel_tree': 1,\n",
    "    'min_child_weight': 1,\n",
    "    'eval_metric': 'rmse',\n",
    "    'nrounds': 500\n",
    "}"
   ]
  },
  {
   "cell_type": "code",
   "execution_count": 14,
   "metadata": {
    "collapsed": false,
    "deletable": true,
    "editable": true
   },
   "outputs": [
    {
     "data": {
      "text/plain": [
       "'\\net = SklearnWrapper(clf=ExtraTreesRegressor, seed=SEED, params=et_params)\\nrf = SklearnWrapper(clf=RandomForestRegressor, seed=SEED, params=rf_params)\\n'"
      ]
     },
     "execution_count": 14,
     "metadata": {},
     "output_type": "execute_result"
    }
   ],
   "source": [
    "br = SklearnWrapper(clf=BayesianRidge, params=br_params)\n",
    "ls = SklearnWrapper(clf=Lasso, params=ls_params)\n",
    "rd = SklearnWrapper(clf=Ridge, params=rd_params)\n",
    "ln = SklearnWrapper(clf=LinearRegression, params=ln_params)\n",
    "xg = XgbWrapper(seed=SEED, params=xgb_params)\n",
    "\n",
    "\"\"\"\n",
    "et = SklearnWrapper(clf=ExtraTreesRegressor, seed=SEED, params=et_params)\n",
    "rf = SklearnWrapper(clf=RandomForestRegressor, seed=SEED, params=rf_params)\n",
    "\"\"\""
   ]
  },
  {
   "cell_type": "code",
   "execution_count": 15,
   "metadata": {
    "collapsed": false,
    "deletable": true,
    "editable": true
   },
   "outputs": [],
   "source": [
    "xg_oof_train, xg_oof_test = get_oof(xg)\n",
    "br_oof_train, br_oof_test = get_oof(br)\n",
    "ls_oof_train, ls_oof_test = get_oof(ls)\n",
    "rd_oof_train, rd_oof_test = get_oof(rd)\n",
    "ln_oof_train, ln_oof_test = get_oof(ln)"
   ]
  },
  {
   "cell_type": "code",
   "execution_count": 16,
   "metadata": {
    "collapsed": false,
    "deletable": true,
    "editable": true
   },
   "outputs": [
    {
     "name": "stdout",
     "output_type": "stream",
     "text": [
      "BR-CV: 0.11472816650227319\n",
      "LS-CV: 0.14492396532135002\n",
      "RD-CV: 0.12333692415647507\n",
      "LN-CV: 0.11858291727477216\n",
      "XG-CV: 0.11727825054439765\n"
     ]
    }
   ],
   "source": [
    "print(\"BR-CV: {}\".format(sqrt(mean_squared_error(y_train, br_oof_train))))\n",
    "print(\"LS-CV: {}\".format(sqrt(mean_squared_error(y_train, ls_oof_train))))\n",
    "print(\"RD-CV: {}\".format(sqrt(mean_squared_error(y_train, rd_oof_train))))\n",
    "print(\"LN-CV: {}\".format(sqrt(mean_squared_error(y_train, ln_oof_train))))\n",
    "print(\"XG-CV: {}\".format(sqrt(mean_squared_error(y_train, xg_oof_train))))"
   ]
  },
  {
   "cell_type": "code",
   "execution_count": 17,
   "metadata": {
    "collapsed": false,
    "deletable": true,
    "editable": true
   },
   "outputs": [],
   "source": [
    "x_train = np.concatenate((xg_oof_train, br_oof_train, ls_oof_train, rd_oof_train, ln_oof_train), axis=1)\n",
    "x_test = np.concatenate((xg_oof_test, br_oof_test, ls_oof_test, rd_oof_test, ln_oof_test), axis=1)"
   ]
  },
  {
   "cell_type": "code",
   "execution_count": 18,
   "metadata": {
    "collapsed": false,
    "deletable": true,
    "editable": true
   },
   "outputs": [
    {
     "name": "stdout",
     "output_type": "stream",
     "text": [
      "(1458, 5),(1459, 5)\n"
     ]
    }
   ],
   "source": [
    "print(\"{},{}\".format(x_train.shape, x_test.shape))"
   ]
  },
  {
   "cell_type": "code",
   "execution_count": 19,
   "metadata": {
    "collapsed": true,
    "deletable": true,
    "editable": true
   },
   "outputs": [],
   "source": [
    "dtrain = xgb.DMatrix(x_train, label=y_train)\n",
    "dtest = xgb.DMatrix(x_test)"
   ]
  },
  {
   "cell_type": "code",
   "execution_count": 20,
   "metadata": {
    "collapsed": true,
    "deletable": true,
    "editable": true
   },
   "outputs": [],
   "source": [
    "xgb_params = {\n",
    "    'seed': 0,\n",
    "    'colsample_bytree': 0.8,\n",
    "    'silent': 1,\n",
    "    'subsample': 0.6,\n",
    "    'learning_rate': 0.01,\n",
    "    'objective': 'reg:linear',\n",
    "    'max_depth': 1,\n",
    "    'num_parallel_tree': 1,\n",
    "    'min_child_weight': 1,\n",
    "    'eval_metric': 'rmse',\n",
    "}"
   ]
  },
  {
   "cell_type": "code",
   "execution_count": 21,
   "metadata": {
    "collapsed": false,
    "deletable": true,
    "editable": true
   },
   "outputs": [
    {
     "name": "stdout",
     "output_type": "stream",
     "text": [
      "[0]\ttrain-rmse:11.4162+0.00276865\ttest-rmse:11.4162+0.0084551\n",
      "[10]\ttrain-rmse:10.3275+0.00274975\ttest-rmse:10.3275+0.00854742\n",
      "[20]\ttrain-rmse:9.34329+0.00240024\ttest-rmse:9.34329+0.00896903\n",
      "[30]\ttrain-rmse:8.45315+0.00239675\ttest-rmse:8.45315+0.00900525\n",
      "[40]\ttrain-rmse:7.64802+0.00247112\ttest-rmse:7.64812+0.00896816\n",
      "[50]\ttrain-rmse:6.9196+0.00225571\ttest-rmse:6.91959+0.00917463\n",
      "[60]\ttrain-rmse:6.26091+0.00199148\ttest-rmse:6.2608+0.0094115\n",
      "[70]\ttrain-rmse:5.66516+0.00185116\ttest-rmse:5.665+0.00959596\n",
      "[80]\ttrain-rmse:5.12624+0.00184275\ttest-rmse:5.126+0.00977936\n",
      "[90]\ttrain-rmse:4.6386+0.00171454\ttest-rmse:4.63839+0.010125\n",
      "[100]\ttrain-rmse:4.19762+0.00157547\ttest-rmse:4.19728+0.0105709\n",
      "[110]\ttrain-rmse:3.79866+0.00156113\ttest-rmse:3.79836+0.0107694\n",
      "[120]\ttrain-rmse:3.43796+0.00157407\ttest-rmse:3.43783+0.0110363\n",
      "[130]\ttrain-rmse:3.11163+0.00148672\ttest-rmse:3.11156+0.0113804\n",
      "[140]\ttrain-rmse:2.81644+0.00126654\ttest-rmse:2.81628+0.0117558\n",
      "[150]\ttrain-rmse:2.5496+0.00108287\ttest-rmse:2.54948+0.0118988\n",
      "[160]\ttrain-rmse:2.30808+0.00105016\ttest-rmse:2.30793+0.0120484\n",
      "[170]\ttrain-rmse:2.08967+0.000957624\ttest-rmse:2.08963+0.0122083\n",
      "[180]\ttrain-rmse:1.89209+0.000885019\ttest-rmse:1.89219+0.012378\n",
      "[190]\ttrain-rmse:1.71343+0.000888318\ttest-rmse:1.71369+0.0123532\n",
      "[200]\ttrain-rmse:1.5521+0.000835469\ttest-rmse:1.55238+0.0124934\n",
      "[210]\ttrain-rmse:1.40604+0.00071815\ttest-rmse:1.40646+0.012472\n",
      "[220]\ttrain-rmse:1.2741+0.000684986\ttest-rmse:1.27472+0.0124376\n",
      "[230]\ttrain-rmse:1.15464+0.000718965\ttest-rmse:1.15536+0.0123441\n",
      "[240]\ttrain-rmse:1.04691+0.000714093\ttest-rmse:1.04774+0.0123187\n",
      "[250]\ttrain-rmse:0.949613+0.000648341\ttest-rmse:0.950539+0.0123433\n",
      "[260]\ttrain-rmse:0.861684+0.000568983\ttest-rmse:0.862617+0.0122941\n",
      "[270]\ttrain-rmse:0.782285+0.000587179\ttest-rmse:0.783303+0.0123479\n",
      "[280]\ttrain-rmse:0.710657+0.00060537\ttest-rmse:0.711803+0.0121901\n",
      "[290]\ttrain-rmse:0.646102+0.000644836\ttest-rmse:0.647365+0.01214\n",
      "[300]\ttrain-rmse:0.587857+0.000660375\ttest-rmse:0.589225+0.0121612\n",
      "[310]\ttrain-rmse:0.535445+0.000730773\ttest-rmse:0.536992+0.0120915\n",
      "[320]\ttrain-rmse:0.488265+0.000757697\ttest-rmse:0.490047+0.0121426\n",
      "[330]\ttrain-rmse:0.445794+0.000734853\ttest-rmse:0.44777+0.012215\n",
      "[340]\ttrain-rmse:0.407569+0.000720999\ttest-rmse:0.409752+0.0121926\n",
      "[350]\ttrain-rmse:0.373271+0.000765489\ttest-rmse:0.375677+0.0120777\n",
      "[360]\ttrain-rmse:0.342439+0.000751637\ttest-rmse:0.345135+0.0121214\n",
      "[370]\ttrain-rmse:0.314877+0.000812408\ttest-rmse:0.317844+0.0120633\n",
      "[380]\ttrain-rmse:0.290263+0.000833718\ttest-rmse:0.293481+0.0121066\n",
      "[390]\ttrain-rmse:0.268321+0.00089196\ttest-rmse:0.271902+0.0120483\n",
      "[400]\ttrain-rmse:0.248674+0.000903304\ttest-rmse:0.252651+0.0120518\n",
      "[410]\ttrain-rmse:0.231286+0.00091611\ttest-rmse:0.235675+0.0120359\n",
      "[420]\ttrain-rmse:0.215908+0.000974483\ttest-rmse:0.220582+0.0119697\n",
      "[430]\ttrain-rmse:0.202277+0.000978992\ttest-rmse:0.207314+0.0118408\n",
      "[440]\ttrain-rmse:0.190278+0.000992605\ttest-rmse:0.195715+0.0117439\n",
      "[450]\ttrain-rmse:0.179691+0.0010486\ttest-rmse:0.185413+0.0115975\n",
      "[460]\ttrain-rmse:0.170392+0.00109395\ttest-rmse:0.176424+0.0113871\n",
      "[470]\ttrain-rmse:0.162211+0.00117097\ttest-rmse:0.168605+0.0111515\n",
      "[480]\ttrain-rmse:0.155075+0.001216\ttest-rmse:0.161805+0.0108625\n",
      "[490]\ttrain-rmse:0.148856+0.00128813\ttest-rmse:0.155942+0.0106256\n",
      "[500]\ttrain-rmse:0.143397+0.00133099\ttest-rmse:0.150818+0.0103891\n",
      "[510]\ttrain-rmse:0.13865+0.00138919\ttest-rmse:0.146423+0.0100772\n",
      "[520]\ttrain-rmse:0.134531+0.00146623\ttest-rmse:0.142612+0.00972293\n",
      "[530]\ttrain-rmse:0.130905+0.0015076\ttest-rmse:0.139288+0.00942056\n",
      "[540]\ttrain-rmse:0.127758+0.00148755\ttest-rmse:0.136463+0.00920114\n",
      "[550]\ttrain-rmse:0.12499+0.00151711\ttest-rmse:0.134021+0.00892163\n",
      "[560]\ttrain-rmse:0.122581+0.00152085\ttest-rmse:0.131852+0.00871448\n",
      "[570]\ttrain-rmse:0.120453+0.00152585\ttest-rmse:0.129937+0.00851946\n",
      "[580]\ttrain-rmse:0.118585+0.0015353\ttest-rmse:0.128328+0.00824809\n",
      "[590]\ttrain-rmse:0.116931+0.00154939\ttest-rmse:0.12691+0.00803208\n",
      "[600]\ttrain-rmse:0.11548+0.00157241\ttest-rmse:0.125679+0.00781107\n",
      "[610]\ttrain-rmse:0.114152+0.00160924\ttest-rmse:0.124578+0.00758292\n",
      "[620]\ttrain-rmse:0.113014+0.00159487\ttest-rmse:0.123549+0.00741408\n",
      "[630]\ttrain-rmse:0.112+0.00161249\ttest-rmse:0.122728+0.00725912\n",
      "[640]\ttrain-rmse:0.111067+0.00161299\ttest-rmse:0.12196+0.00711673\n",
      "[650]\ttrain-rmse:0.110205+0.00161959\ttest-rmse:0.121325+0.00693088\n",
      "[660]\ttrain-rmse:0.109437+0.00160426\ttest-rmse:0.120749+0.00682807\n",
      "[670]\ttrain-rmse:0.108712+0.00160214\ttest-rmse:0.120072+0.00670869\n",
      "[680]\ttrain-rmse:0.108049+0.00158722\ttest-rmse:0.119514+0.00661453\n",
      "[690]\ttrain-rmse:0.107462+0.00159651\ttest-rmse:0.119032+0.0065034\n",
      "[700]\ttrain-rmse:0.106906+0.00160612\ttest-rmse:0.118616+0.00639465\n",
      "[710]\ttrain-rmse:0.106396+0.00161282\ttest-rmse:0.11824+0.00626829\n",
      "[720]\ttrain-rmse:0.105931+0.00161155\ttest-rmse:0.117961+0.0061237\n",
      "[730]\ttrain-rmse:0.105491+0.00161164\ttest-rmse:0.117656+0.0060535\n",
      "[740]\ttrain-rmse:0.105069+0.00160612\ttest-rmse:0.117374+0.00588145\n",
      "[750]\ttrain-rmse:0.104685+0.00161068\ttest-rmse:0.11715+0.00579277\n",
      "[760]\ttrain-rmse:0.10434+0.00159002\ttest-rmse:0.116926+0.00575557\n",
      "[770]\ttrain-rmse:0.104017+0.0015809\ttest-rmse:0.11672+0.00564083\n",
      "[780]\ttrain-rmse:0.103716+0.00157626\ttest-rmse:0.116543+0.00555458\n",
      "[790]\ttrain-rmse:0.103433+0.00157539\ttest-rmse:0.116382+0.00544906\n",
      "[800]\ttrain-rmse:0.103159+0.00157944\ttest-rmse:0.116214+0.00539169\n",
      "[810]\ttrain-rmse:0.10291+0.00157921\ttest-rmse:0.116099+0.0053287\n",
      "[820]\ttrain-rmse:0.102671+0.00157505\ttest-rmse:0.115997+0.00524002\n",
      "[830]\ttrain-rmse:0.102445+0.00156377\ttest-rmse:0.115848+0.00520104\n",
      "[840]\ttrain-rmse:0.102231+0.00155387\ttest-rmse:0.115713+0.00517126\n",
      "[850]\ttrain-rmse:0.102026+0.00155415\ttest-rmse:0.115626+0.00507877\n",
      "[860]\ttrain-rmse:0.101836+0.0015589\ttest-rmse:0.115492+0.00506492\n",
      "[870]\ttrain-rmse:0.101661+0.0015503\ttest-rmse:0.115443+0.00497973\n",
      "[880]\ttrain-rmse:0.101499+0.00154571\ttest-rmse:0.115348+0.00491406\n",
      "[890]\ttrain-rmse:0.101344+0.00154171\ttest-rmse:0.115306+0.00483803\n",
      "[900]\ttrain-rmse:0.101206+0.0015221\ttest-rmse:0.115226+0.0048507\n",
      "[910]\ttrain-rmse:0.101066+0.00151697\ttest-rmse:0.115177+0.00478407\n",
      "[920]\ttrain-rmse:0.100936+0.0015103\ttest-rmse:0.11516+0.00472591\n",
      "[930]\ttrain-rmse:0.100807+0.001499\ttest-rmse:0.115108+0.00470393\n",
      "[940]\ttrain-rmse:0.100703+0.00149662\ttest-rmse:0.115118+0.00467369\n",
      "[950]\ttrain-rmse:0.10059+0.00149202\ttest-rmse:0.115127+0.00461047\n",
      "[960]\ttrain-rmse:0.100483+0.00149729\ttest-rmse:0.115082+0.00456771\n",
      "[970]\ttrain-rmse:0.10038+0.00149369\ttest-rmse:0.115047+0.0045723\n",
      "[980]\ttrain-rmse:0.100284+0.00149092\ttest-rmse:0.115054+0.00453645\n",
      "[990]\ttrain-rmse:0.100213+0.0014916\ttest-rmse:0.115045+0.00450139\n"
     ]
    }
   ],
   "source": [
    "res = xgb.cv(xgb_params, dtrain, num_boost_round=1000, nfold=4, seed=SEED, stratified=False,\n",
    "             early_stopping_rounds=25, verbose_eval=10, show_stdv=True)"
   ]
  },
  {
   "cell_type": "code",
   "execution_count": 22,
   "metadata": {
    "collapsed": true,
    "deletable": true,
    "editable": true
   },
   "outputs": [],
   "source": [
    "best_nrounds = res.shape[0] - 1\n",
    "cv_mean = res.iloc[-1, 0]\n",
    "cv_std = res.iloc[-1, 1]"
   ]
  },
  {
   "cell_type": "code",
   "execution_count": 23,
   "metadata": {
    "collapsed": false,
    "deletable": true,
    "editable": true
   },
   "outputs": [
    {
     "name": "stdout",
     "output_type": "stream",
     "text": [
      "Ensemble-CV: 0.11499975000000001 (+/- 0.00448573847738586)\n"
     ]
    }
   ],
   "source": [
    "print('Ensemble-CV: {0} (+/- {1})'.format(cv_mean, cv_std))"
   ]
  },
  {
   "cell_type": "code",
   "execution_count": 24,
   "metadata": {
    "collapsed": true,
    "deletable": true,
    "editable": true
   },
   "outputs": [],
   "source": [
    "gbdt = xgb.train(xgb_params, dtrain, best_nrounds)"
   ]
  },
  {
   "cell_type": "code",
   "execution_count": 25,
   "metadata": {
    "collapsed": false,
    "deletable": true,
    "editable": true
   },
   "outputs": [
    {
     "data": {
      "text/plain": [
       "\"\\nsubmission = pd.read_csv(SUBMISSION_FILE)\\nsubmission.iloc[:, 1] = gbdt.predict(dtest)\\nsaleprice = np.exp(submission['SalePrice'])-1\\nsubmission['SalePrice'] = saleprice\\nsubmission.to_csv('output/xgstacker_try.csv', index=None)\\n\""
      ]
     },
     "execution_count": 25,
     "metadata": {},
     "output_type": "execute_result"
    }
   ],
   "source": [
    "\"\"\"\n",
    "submission = pd.read_csv(SUBMISSION_FILE)\n",
    "submission.iloc[:, 1] = gbdt.predict(dtest)\n",
    "saleprice = np.exp(submission['SalePrice'])-1\n",
    "submission['SalePrice'] = saleprice\n",
    "submission.to_csv('output/xgstacker_try.csv', index=None)\n",
    "\"\"\""
   ]
  },
  {
   "cell_type": "code",
   "execution_count": 26,
   "metadata": {
    "collapsed": true,
    "deletable": true,
    "editable": true
   },
   "outputs": [],
   "source": [
    "def modelSubmit(model, dtest, name):\n",
    "    ln_pred = model.predict(dtest)\n",
    "    pred = np.expm1(ln_pred)\n",
    "    submission = pd.DataFrame({\"Id\": ids, \"SalePrice\": pred})\n",
    "    filename = os.path.join(name + \".csv\")\n",
    "    submission.to_csv('output/' + filename, index=False)"
   ]
  },
  {
   "cell_type": "code",
   "execution_count": 27,
   "metadata": {
    "collapsed": false,
    "deletable": true,
    "editable": true
   },
   "outputs": [],
   "source": [
    "modelSubmit(gbdt, dtest, 'xgstacker_3')"
   ]
  },
  {
   "cell_type": "code",
   "execution_count": null,
   "metadata": {
    "collapsed": true,
    "deletable": true,
    "editable": true
   },
   "outputs": [],
   "source": []
  }
 ],
 "metadata": {
  "kernelspec": {
   "display_name": "Python 3",
   "language": "python",
   "name": "python3"
  },
  "language_info": {
   "codemirror_mode": {
    "name": "ipython",
    "version": 3
   },
   "file_extension": ".py",
   "mimetype": "text/x-python",
   "name": "python",
   "nbconvert_exporter": "python",
   "pygments_lexer": "ipython3",
   "version": "3.5.2"
  },
  "toc": {
   "colors": {
    "hover_highlight": "#DAA520",
    "running_highlight": "#FF0000",
    "selected_highlight": "#FFD700"
   },
   "moveMenuLeft": true,
   "nav_menu": {
    "height": "48px",
    "width": "252px"
   },
   "navigate_menu": true,
   "number_sections": true,
   "sideBar": true,
   "threshold": 4,
   "toc_cell": false,
   "toc_section_display": "block",
   "toc_window_display": false
  }
 },
 "nbformat": 4,
 "nbformat_minor": 2
}
